{
 "cells": [
  {
   "cell_type": "markdown",
   "metadata": {},
   "source": [
    "# Kachra Rani \n",
    "## Team:\n",
    "### 1. Syed Hassan Haider\n",
    "### 2. Inara Naseem G H Chagani \n",
    "### 3. Muhammad Shahrom Ali "
   ]
  },
  {
   "cell_type": "code",
   "execution_count": 1,
   "metadata": {},
   "outputs": [],
   "source": [
    "# Input: Image \n",
    "# Output : Label for that Image \n",
    "\n",
    "# Steps: \n",
    "# 1. Loading Image and Preprocessing \n",
    "# 2. Defining Model Architecture \n",
    "# 3. Training the Model \n",
    "# 4. Estimation of performance"
   ]
  },
  {
   "cell_type": "markdown",
   "metadata": {},
   "source": [
    "###### Importing and Housekeeping stuff"
   ]
  },
  {
   "cell_type": "code",
   "execution_count": 2,
   "metadata": {},
   "outputs": [],
   "source": [
    "#imports\n",
    "import numpy as np \n",
    "\n",
    "import pickle\n",
    "\n",
    "import cv2\n",
    "\n",
    "from sklearn import svm\n",
    "from skimage import color\n",
    "\n",
    "from skimage.feature import hog\n",
    "from sklearn.metrics import classification_report,accuracy_score\n",
    "\n",
    "import matplotlib.pyplot as plt\n",
    "import matplotlib.image as mpimg\n",
    "plt.style.use('fivethirtyeight')"
   ]
  },
  {
   "cell_type": "code",
   "execution_count": 3,
   "metadata": {},
   "outputs": [],
   "source": [
    "#FILENAMES FOR EXPORTED DATA \n",
    "\n",
    "FEATURE_DATA = 'KR_extracted_features'\n",
    "RAW_DATASET = 'KR_dataset'\n",
    "KR_MODEL = 'KR_model'\n",
    "\n",
    "# Supporting information defined \n",
    "dataset_info = {\n",
    "    # FORMAT::garbage_type : (no_of_imgs, label_value)\n",
    "    'glass' : (501, 0),\n",
    "    'plastic' : (482, 1),\n",
    "    'cardboard' : (403, 2),\n",
    "    'paper' : (594, 3),\n",
    "    'metal' : (410, 4),\n",
    "    'trash' : (137, 5)\n",
    "}\n",
    "\n",
    "#Label_value (int) : garbage_type (string)\n",
    "labels = {dataset_info[i][1] : i for i in dataset_info}"
   ]
  },
  {
   "cell_type": "markdown",
   "metadata": {},
   "source": [
    "###### Helper Functions "
   ]
  },
  {
   "cell_type": "code",
   "execution_count": 4,
   "metadata": {},
   "outputs": [],
   "source": [
    "#export files\n",
    "def export(filename, to_export):\n",
    "    np.save(filename + \".npy\", to_export)"
   ]
  },
  {
   "cell_type": "code",
   "execution_count": 5,
   "metadata": {},
   "outputs": [],
   "source": [
    "def load(filename):\n",
    "    test_frame = np.load(filename + \".npy\")"
   ]
  },
  {
   "cell_type": "markdown",
   "metadata": {},
   "source": [
    "###### Load Data"
   ]
  },
  {
   "cell_type": "code",
   "execution_count": 16,
   "metadata": {},
   "outputs": [],
   "source": [
    "def preprocess_img(img):\n",
    "    \n",
    "    scale_percent = 50 # percent of original size\n",
    "    \n",
    "    #Resize the image for less pixels \n",
    "    width = int(256)\n",
    "    height = int(192)\n",
    "    dim = (width, height) \n",
    "    img = cv2.resize(img, dim, interpolation = cv2.INTER_AREA) \n",
    "\n",
    "    #convert image to grayscale \n",
    "    img = color.rgb2gray(img)\n",
    "    \n",
    "    return img"
   ]
  },
  {
   "cell_type": "code",
   "execution_count": 7,
   "metadata": {},
   "outputs": [],
   "source": [
    "def load_dataset():\n",
    "    KR_dataset = list()\n",
    "\n",
    "    for garbage_type in dataset_info:\n",
    "    \n",
    "        img_count = dataset_info[garbage_type][0]\n",
    "        garbage_label = dataset_info[garbage_type][1]\n",
    "    \n",
    "        #LOAD IMAGES OF SELECTED GARBAGE TYPE\n",
    "        for i in range(1,  img_count + 1):\n",
    "\n",
    "            img_path = './Dataset/' + garbage_type + \"/\" + garbage_type + str(i) + '.jpg'\n",
    "\n",
    "            img = preprocess_img( mpimg.imread( img_path ) ) \n",
    "\n",
    "            KR_dataset.append((img, garbage_label))\n",
    "\n",
    "    #Loaded Dataset\n",
    "    KR_dataset = np.array(KR_dataset, dtype=object)\n",
    "    \n",
    "    return KR_dataset"
   ]
  },
  {
   "cell_type": "markdown",
   "metadata": {},
   "source": [
    "###### Feature Extraction "
   ]
  },
  {
   "cell_type": "code",
   "execution_count": 8,
   "metadata": {},
   "outputs": [],
   "source": [
    "def feature_extraction(img):\n",
    "    ppc = 16 #PIXELS PER CEL \n",
    "    return hog(img, \n",
    "               orientations=8,\n",
    "               pixels_per_cell=(ppc,ppc),\n",
    "               cells_per_block=(4, 4),\n",
    "               block_norm= 'L2',\n",
    "               visualize=True)"
   ]
  },
  {
   "cell_type": "code",
   "execution_count": 9,
   "metadata": {},
   "outputs": [],
   "source": [
    "def gen_feature_set(dataset):\n",
    "    #Feature Extraction using Histogram of Gradient\n",
    "\n",
    "    hog_images = []\n",
    "    hog_features = []\n",
    "\n",
    "    for image in dataset:\n",
    "\n",
    "        feat_desc, hog_image = feature_extraction(image[0])\n",
    "\n",
    "        hog_images.append(hog_image)\n",
    "        hog_features.append(feat_desc)\n",
    "    \n",
    "    hog_features = np.array(hog_features)\n",
    "    labels = np.array( [img[1] for img in dataset] ).reshape(len(dataset), 1) #make collumn vector\n",
    "\n",
    "    # each row corresponds to hog_features of some img i\n",
    "    # and at the end is the label of that image \n",
    "    data_frame = np.hstack((hog_features, labels))\n",
    "    \n",
    "    return data_frame"
   ]
  },
  {
   "cell_type": "markdown",
   "metadata": {},
   "source": [
    "###### Splitting Data"
   ]
  },
  {
   "cell_type": "code",
   "execution_count": 10,
   "metadata": {},
   "outputs": [],
   "source": [
    "def split_data(data_frame):\n",
    "    \n",
    "    percentage = 80\n",
    "    partition = int(data_frame.shape[0]*percentage/100)\n",
    "    \n",
    "    x_train, x_test = data_frame[:partition,:-1],  data_frame[partition:,:-1]\n",
    "    \n",
    "    y_train, y_test = data_frame[:partition,-1:].ravel() , data_frame[partition:,-1:].ravel()\n",
    "    \n",
    "    return (x_train, y_train, x_test, y_test)"
   ]
  },
  {
   "cell_type": "markdown",
   "metadata": {},
   "source": [
    "###### Generating Model"
   ]
  },
  {
   "cell_type": "code",
   "execution_count": 11,
   "metadata": {},
   "outputs": [],
   "source": [
    "def KR_classifier(x_train, y_train):\n",
    "    \n",
    "    model_kr = svm.SVC()\n",
    "    model_kr.fit(x_train,y_train)\n",
    "    \n",
    "    return model_kr"
   ]
  },
  {
   "cell_type": "markdown",
   "metadata": {},
   "source": [
    "###### Predictions and Model Evaluation"
   ]
  },
  {
   "cell_type": "code",
   "execution_count": 12,
   "metadata": {},
   "outputs": [],
   "source": [
    "def model_eval(y_test, y_pred):\n",
    "    print(\"Accuracy: \" + str(accuracy_score(y_test, y_pred) * 100) + \"\\%\")\n",
    "    print('\\n')\n",
    "    print(classification_report(y_test, y_pred))"
   ]
  },
  {
   "cell_type": "markdown",
   "metadata": {},
   "source": [
    "###### Generate Model"
   ]
  },
  {
   "cell_type": "code",
   "execution_count": 13,
   "metadata": {},
   "outputs": [
    {
     "name": "stdout",
     "output_type": "stream",
     "text": [
      "Accuracy: 55.533596837944664\\%\n",
      "\n",
      "\n",
      "              precision    recall  f1-score   support\n",
      "\n",
      "         0.0       0.47      0.60      0.53        90\n",
      "         1.0       0.45      0.45      0.45       100\n",
      "         2.0       0.76      0.65      0.71        84\n",
      "         3.0       0.57      0.82      0.67       118\n",
      "         4.0       0.61      0.34      0.44        88\n",
      "         5.0       0.00      0.00      0.00        26\n",
      "\n",
      "    accuracy                           0.56       506\n",
      "   macro avg       0.48      0.48      0.47       506\n",
      "weighted avg       0.54      0.56      0.53       506\n",
      "\n"
     ]
    },
    {
     "name": "stderr",
     "output_type": "stream",
     "text": [
      "c:\\program files\\python38\\lib\\site-packages\\sklearn\\metrics\\_classification.py:1221: UndefinedMetricWarning: Precision and F-score are ill-defined and being set to 0.0 in labels with no predicted samples. Use `zero_division` parameter to control this behavior.\n",
      "  _warn_prf(average, modifier, msg_start, len(result))\n"
     ]
    }
   ],
   "source": [
    "# Load Dataset \n",
    "KR_dataset = load_dataset()\n",
    "\n",
    "# Export Dataset\n",
    "export(RAW_DATASET, KR_dataset)\n",
    "\n",
    "# Shuffle Dataset\n",
    "np.random.shuffle(KR_dataset)\n",
    "\n",
    "\n",
    "# Extract Features and Create Feature Set\n",
    "KR_data_frame = gen_feature_set(KR_dataset)\n",
    "\n",
    "# Export Feature Set \n",
    "export(FEATURE_DATA, KR_data_frame)\n",
    "\n",
    "# Split Feature Set \n",
    "x_train, y_train, x_test, y_test = split_data(KR_data_frame)\n",
    "\n",
    "\n",
    "# Fit Model\n",
    "KR_model = KR_classifier(x_train, y_train)\n",
    "\n",
    "# Export model\n",
    "export(KR_MODEL, KR_model)\n",
    "\n",
    "#Test Model\n",
    "y_pred = KR_model.predict(x_test)\n",
    "\n",
    "# Metrics on Model\n",
    "model_eval(y_test, y_pred)"
   ]
  },
  {
   "cell_type": "markdown",
   "metadata": {},
   "source": [
    "###### Run Model"
   ]
  },
  {
   "cell_type": "code",
   "execution_count": 18,
   "metadata": {},
   "outputs": [
    {
     "name": "stdout",
     "output_type": "stream",
     "text": [
      "The image contains plastic\n"
     ]
    }
   ],
   "source": [
    "# Run model\n",
    "\n",
    "#load image in img \n",
    "img_run = preprocess_img( mpimg.imread(\"./test_img.jpg\") ) \n",
    "\n",
    "feature_descriptor = np.array([feature_extraction(img_run)[0],])\n",
    "predicted_label = KR_model.predict(feature_descriptor)\n",
    "\n",
    "print(\"The image contains\", labels[predicted_label[0]])"
   ]
  }
 ],
 "metadata": {
  "kernelspec": {
   "display_name": "Python 3",
   "language": "python",
   "name": "python3"
  },
  "language_info": {
   "codemirror_mode": {
    "name": "ipython",
    "version": 3
   },
   "file_extension": ".py",
   "mimetype": "text/x-python",
   "name": "python",
   "nbconvert_exporter": "python",
   "pygments_lexer": "ipython3",
   "version": "3.8.6"
  }
 },
 "nbformat": 4,
 "nbformat_minor": 4
}
